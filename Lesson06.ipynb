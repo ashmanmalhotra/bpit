{
 "cells": [
  {
   "cell_type": "code",
   "execution_count": 1,
   "metadata": {},
   "outputs": [],
   "source": [
    "import pymysql"
   ]
  },
  {
   "cell_type": "code",
   "execution_count": 7,
   "metadata": {},
   "outputs": [],
   "source": [
    "# Create Table in Database\n",
    "conn = pymysql.Connect('localhost', 'root', '', 'bpit')\n",
    "sql = \"\"\"\n",
    "CREATE TABLE users(id INT PRIMARY KEY AUTO_INCREMENT, \n",
    "name VARCHAR(50) NOT NULL, city VARCHAR(30) NOT NULL)\n",
    "\"\"\"\n",
    "cur = conn.cursor()\n",
    "cur.execute(sql)\n",
    "conn.close()"
   ]
  },
  {
   "cell_type": "code",
   "execution_count": 12,
   "metadata": {},
   "outputs": [],
   "source": [
    "# Insert Data in Table\n",
    "conn = pymysql.Connect('localhost', 'root', '', 'bpit')\n",
    "sql1 = \"\"\"\n",
    "INSERT INTO users(id, name, city) VALUES (NULL, 'Mohit Gandhi', 'Patial');\n",
    "\"\"\"\n",
    "sql2 = \"\"\"\n",
    "INSERT INTO users(id, name, city) VALUES (NULL, 'Pooja Mehta', 'Jaipur');\n",
    "\"\"\"\n",
    "cur = conn.cursor()\n",
    "cur.execute(sql1)\n",
    "cur.execute(sql2)\n",
    "conn.commit()\n",
    "conn.close()"
   ]
  },
  {
   "cell_type": "code",
   "execution_count": 21,
   "metadata": {},
   "outputs": [
    {
     "name": "stdout",
     "output_type": "stream",
     "text": [
      "(100, 'Ajay Mathur', 'New Delhi')\n",
      "(101, 'Kishan Das', 'New Delhi')\n",
      "(103, 'Mohan Das', 'Jaipur')\n",
      "(104, 'Karam Chand', 'New Delhi')\n",
      "(105, 'Mohit Gandhi', 'Patial')\n",
      "(106, 'Pooja Mehta', 'Jaipur')\n"
     ]
    }
   ],
   "source": [
    "# Reading Data - Read Whole Table\n",
    "conn = pymysql.Connect('localhost', 'root', '', 'bpit')\n",
    "cur = conn.cursor()\n",
    "# SQL Query\n",
    "sql = 'SELECT * FROM users;'\n",
    "cur.execute(sql)\n",
    "\n",
    "rows = cur.fetchall()\n",
    "#print(\"Name\\t\\tCity\")\n",
    "for row in rows:\n",
    "    #print(row[1], \"\\t\", row[2])\n",
    "    print(row)\n",
    "conn.close()"
   ]
  },
  {
   "cell_type": "code",
   "execution_count": 24,
   "metadata": {},
   "outputs": [
    {
     "name": "stdout",
     "output_type": "stream",
     "text": [
      "(100, 'Ajay Mathur', 'New Delhi')\n"
     ]
    }
   ],
   "source": [
    "# Reading Data - Read One Column\n",
    "conn = pymysql.Connect('localhost', 'root', '', 'bpit')\n",
    "cur = conn.cursor()\n",
    "# SQL Query\n",
    "sql = 'SELECT * FROM users;'\n",
    "cur.execute(sql)\n",
    "\n",
    "row = cur.fetchone()\n",
    "print(row)\n",
    "conn.close()"
   ]
  },
  {
   "cell_type": "code",
   "execution_count": 25,
   "metadata": {},
   "outputs": [
    {
     "name": "stdout",
     "output_type": "stream",
     "text": [
      "((100, 'Ajay Mathur', 'New Delhi'), (101, 'Kishan Das', 'New Delhi'), (103, 'Mohan Das', 'Jaipur'), (104, 'Karam Chand', 'New Delhi'))\n"
     ]
    }
   ],
   "source": [
    "# Reading Data - Read One Column\n",
    "conn = pymysql.Connect('localhost', 'root', '', 'bpit')\n",
    "cur = conn.cursor()\n",
    "# SQL Query\n",
    "sql = 'SELECT * FROM users;'\n",
    "cur.execute(sql)\n",
    "\n",
    "rows = cur.fetchmany(4)\n",
    "print(rows)\n",
    "\n",
    "conn.close()"
   ]
  },
  {
   "cell_type": "code",
   "execution_count": null,
   "metadata": {},
   "outputs": [],
   "source": []
  }
 ],
 "metadata": {
  "kernelspec": {
   "display_name": "Python 3",
   "language": "python",
   "name": "python3"
  },
  "language_info": {
   "codemirror_mode": {
    "name": "ipython",
    "version": 3
   },
   "file_extension": ".py",
   "mimetype": "text/x-python",
   "name": "python",
   "nbconvert_exporter": "python",
   "pygments_lexer": "ipython3",
   "version": "3.6.5"
  }
 },
 "nbformat": 4,
 "nbformat_minor": 2
}
