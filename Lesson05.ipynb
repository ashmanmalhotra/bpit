{
 "cells": [
  {
   "cell_type": "code",
   "execution_count": 1,
   "metadata": {},
   "outputs": [],
   "source": [
    "class classname:\n",
    "    pass"
   ]
  },
  {
   "cell_type": "code",
   "execution_count": 2,
   "metadata": {},
   "outputs": [],
   "source": [
    "obj = classname()"
   ]
  },
  {
   "cell_type": "code",
   "execution_count": 5,
   "metadata": {},
   "outputs": [],
   "source": [
    "class Person:\n",
    "    def function1(self):\n",
    "        print(\"I am function1 of Person class\")\n",
    "    def function2(self):\n",
    "        print(\"I am function2 of Person class\")\n",
    "obj = Person()"
   ]
  },
  {
   "cell_type": "code",
   "execution_count": 7,
   "metadata": {},
   "outputs": [
    {
     "name": "stdout",
     "output_type": "stream",
     "text": [
      "I am function2 of Person class\n"
     ]
    }
   ],
   "source": [
    "obj.function2()"
   ]
  },
  {
   "cell_type": "code",
   "execution_count": 8,
   "metadata": {},
   "outputs": [
    {
     "name": "stdout",
     "output_type": "stream",
     "text": [
      "I am Constructor of Person Class\n"
     ]
    }
   ],
   "source": [
    "class Person:\n",
    "    def __init__(self):\n",
    "        print(\"I am Constructor of Person Class\")\n",
    "    def function1(self):\n",
    "        print(\"I am function1 of Person class\")\n",
    "    def function2(self):\n",
    "        print(\"I am function2 of Person class\")\n",
    "\n",
    "obj = Person()"
   ]
  },
  {
   "cell_type": "code",
   "execution_count": 12,
   "metadata": {},
   "outputs": [],
   "source": [
    "class Person:\n",
    "    def __init__(self, pname, page):\n",
    "        self.person_name = pname\n",
    "        self.person_age  = page\n",
    "    def printValues(self):\n",
    "        print(\"Person Name: \", self.person_name)\n",
    "        print(\"Person Name: \", self.person_age)"
   ]
  },
  {
   "cell_type": "code",
   "execution_count": 13,
   "metadata": {},
   "outputs": [],
   "source": [
    "obj = Person(\"Ajay Mathur\", 25)"
   ]
  },
  {
   "cell_type": "code",
   "execution_count": 14,
   "metadata": {},
   "outputs": [
    {
     "data": {
      "text/plain": [
       "25"
      ]
     },
     "execution_count": 14,
     "metadata": {},
     "output_type": "execute_result"
    }
   ],
   "source": [
    "obj.person_age"
   ]
  },
  {
   "cell_type": "code",
   "execution_count": 15,
   "metadata": {},
   "outputs": [
    {
     "data": {
      "text/plain": [
       "'Ajay Mathur'"
      ]
     },
     "execution_count": 15,
     "metadata": {},
     "output_type": "execute_result"
    }
   ],
   "source": [
    "obj.person_name"
   ]
  },
  {
   "cell_type": "code",
   "execution_count": 16,
   "metadata": {},
   "outputs": [
    {
     "name": "stdout",
     "output_type": "stream",
     "text": [
      "Person Name:  Ajay Mathur\n",
      "Person Name:  25\n"
     ]
    }
   ],
   "source": [
    "obj.printValues()"
   ]
  },
  {
   "cell_type": "code",
   "execution_count": 17,
   "metadata": {},
   "outputs": [],
   "source": [
    "class Person:\n",
    "    def __init__(self, pname, page):\n",
    "        self.person_name = pname\n",
    "        self.person_age  = page\n",
    "    def localeInfo(self, city, phone):\n",
    "        self.person_city = city\n",
    "        self.person_phone = phone\n",
    "    def printValues(self):\n",
    "        print(\"Person Name: \", self.person_name)\n",
    "        print(\"Person Name: \", self.person_age)\n",
    "    def printLocaleInfo(self):\n",
    "        print(\"Person City: \", self.person_city)\n",
    "        print(\"Person Phone: \", self.person_phone)       "
   ]
  },
  {
   "cell_type": "code",
   "execution_count": 18,
   "metadata": {},
   "outputs": [],
   "source": [
    "obj = Person(\"Nitin\", 22)"
   ]
  },
  {
   "cell_type": "code",
   "execution_count": 19,
   "metadata": {},
   "outputs": [],
   "source": [
    "obj.localeInfo(\"New Delhi\", \"98989898\")"
   ]
  },
  {
   "cell_type": "code",
   "execution_count": 20,
   "metadata": {},
   "outputs": [
    {
     "name": "stdout",
     "output_type": "stream",
     "text": [
      "Person City:  New Delhi\n",
      "Person Phone:  98989898\n"
     ]
    }
   ],
   "source": [
    "obj.printLocaleInfo()"
   ]
  },
  {
   "cell_type": "code",
   "execution_count": 21,
   "metadata": {},
   "outputs": [
    {
     "data": {
      "text/plain": [
       "False"
      ]
     },
     "execution_count": 21,
     "metadata": {},
     "output_type": "execute_result"
    }
   ],
   "source": [
    "hasattr(obj, \"marks\")"
   ]
  },
  {
   "cell_type": "code",
   "execution_count": 22,
   "metadata": {},
   "outputs": [
    {
     "data": {
      "text/plain": [
       "True"
      ]
     },
     "execution_count": 22,
     "metadata": {},
     "output_type": "execute_result"
    }
   ],
   "source": [
    "hasattr(obj, \"person_city\")"
   ]
  },
  {
   "cell_type": "code",
   "execution_count": 23,
   "metadata": {},
   "outputs": [],
   "source": [
    "setattr(obj, \"marks\", 780)"
   ]
  },
  {
   "cell_type": "code",
   "execution_count": 24,
   "metadata": {},
   "outputs": [
    {
     "data": {
      "text/plain": [
       "780"
      ]
     },
     "execution_count": 24,
     "metadata": {},
     "output_type": "execute_result"
    }
   ],
   "source": [
    "obj.marks"
   ]
  },
  {
   "cell_type": "code",
   "execution_count": 25,
   "metadata": {},
   "outputs": [
    {
     "data": {
      "text/plain": [
       "780"
      ]
     },
     "execution_count": 25,
     "metadata": {},
     "output_type": "execute_result"
    }
   ],
   "source": [
    "getattr(obj, \"marks\")"
   ]
  },
  {
   "cell_type": "code",
   "execution_count": 26,
   "metadata": {},
   "outputs": [],
   "source": [
    "delattr(obj, \"marks\")"
   ]
  },
  {
   "cell_type": "markdown",
   "metadata": {},
   "source": [
    "# Inheritance"
   ]
  },
  {
   "cell_type": "code",
   "execution_count": 28,
   "metadata": {},
   "outputs": [],
   "source": [
    "class Parent:\n",
    "    def __init__(self):\n",
    "        print(\"I am a Parent Constructor.\")\n",
    "    def parentFunc(self):\n",
    "        print(\"I am a Parent Function.\")\n",
    "\n",
    "class Child(Parent):\n",
    "    def __init__(self):\n",
    "        print(\"I am a Child Class Constructor\")\n",
    "    def childFunc(self):\n",
    "        print(\"I am a Child Class Function.\")"
   ]
  },
  {
   "cell_type": "code",
   "execution_count": 29,
   "metadata": {},
   "outputs": [
    {
     "name": "stdout",
     "output_type": "stream",
     "text": [
      "I am a Child Class Constructor\n"
     ]
    }
   ],
   "source": [
    "obj = Child()"
   ]
  },
  {
   "cell_type": "code",
   "execution_count": 30,
   "metadata": {},
   "outputs": [
    {
     "name": "stdout",
     "output_type": "stream",
     "text": [
      "I am a Parent Function.\n"
     ]
    }
   ],
   "source": [
    "obj.parentFunc()"
   ]
  },
  {
   "cell_type": "code",
   "execution_count": 46,
   "metadata": {},
   "outputs": [],
   "source": [
    "class Car:\n",
    "    def __init__(self, make, model, year):\n",
    "        self.make  = make\n",
    "        self.model = model\n",
    "        self.year  = year\n",
    "    def carAttr(self):\n",
    "        print(\"Car Make: \", self.make)\n",
    "        print(\"Car Model: \", self.model)\n",
    "        print(\"Car Year: \", self.year)\n",
    "    def simpleFunc(self):\n",
    "        print(\"I am a simple function of Car Class.\")\n",
    "\n",
    "class ElectricCar(Car):\n",
    "    def __init__(self, battery, mileage, make, model, year):\n",
    "        super().__init__(make, model, year)\n",
    "        self.battery  = battery\n",
    "        self.mileage = mileage\n",
    "    def ECAttr(self):\n",
    "        print(\"Car Battery: \", self.battery)\n",
    "        print(\"Car Mileage: \", self.mileage)\n",
    "    def simpleFunc(self):\n",
    "        super().carAttr()"
   ]
  },
  {
   "cell_type": "code",
   "execution_count": 47,
   "metadata": {},
   "outputs": [],
   "source": [
    "ecobj = ElectricCar(2, 80, \"Mahindra\", \"Mahindra-Elec\", 2015)"
   ]
  },
  {
   "cell_type": "code",
   "execution_count": 48,
   "metadata": {},
   "outputs": [
    {
     "name": "stdout",
     "output_type": "stream",
     "text": [
      "I am a simple function of Electric Car Class.\n",
      "Car Make:  Mahindra\n",
      "Car Model:  Mahindra-Elec\n",
      "Car Year:  2015\n"
     ]
    }
   ],
   "source": [
    "ecobj.simpleFunc()"
   ]
  },
  {
   "cell_type": "code",
   "execution_count": null,
   "metadata": {},
   "outputs": [],
   "source": []
  },
  {
   "cell_type": "code",
   "execution_count": null,
   "metadata": {},
   "outputs": [],
   "source": []
  }
 ],
 "metadata": {
  "kernelspec": {
   "display_name": "Python 3",
   "language": "python",
   "name": "python3"
  },
  "language_info": {
   "codemirror_mode": {
    "name": "ipython",
    "version": 3
   },
   "file_extension": ".py",
   "mimetype": "text/x-python",
   "name": "python",
   "nbconvert_exporter": "python",
   "pygments_lexer": "ipython3",
   "version": "3.6.5"
  }
 },
 "nbformat": 4,
 "nbformat_minor": 2
}
